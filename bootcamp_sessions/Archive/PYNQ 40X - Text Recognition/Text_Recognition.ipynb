{
 "cells": [
  {
   "cell_type": "code",
   "execution_count": 1,
   "id": "67dc40d6",
   "metadata": {},
   "outputs": [],
   "source": [
    "#from time import time                                      # various time-related functions\n",
    "#import os                                                  # portable way of using operating system dependent functionality\n",
    "import numpy as np                                         # contains multidimensional array and matrix data structures\n",
    "#import matplotlib.pyplot as plt                            # data visualization library for plots, graphs and charts\n",
    "#%matplotlib inline\n",
    "#from six.moves import urllib                               # imports a mixture of urllib, urllib2 and urlparse with Python2\n",
    "import cv2              "
   ]
  },
  {
   "cell_type": "code",
   "execution_count": 2,
   "id": "c6961032",
   "metadata": {},
   "outputs": [
    {
     "data": {
      "application/javascript": [
       "\n",
       "try {\n",
       "require(['notebook/js/codecell'], function(codecell) {\n",
       "  codecell.CodeCell.options_default.highlight_modes[\n",
       "      'magic_text/x-csrc'] = {'reg':[/^%%microblaze/]};\n",
       "  Jupyter.notebook.events.one('kernel_ready.Kernel', function(){\n",
       "      Jupyter.notebook.get_cells().map(function(cell){\n",
       "          if (cell.cell_type == 'code'){ cell.auto_highlight(); } }) ;\n",
       "  });\n",
       "});\n",
       "} catch (e) {};\n"
      ]
     },
     "metadata": {},
     "output_type": "display_data"
    },
    {
     "data": {
      "application/javascript": [
       "\n",
       "try {\n",
       "require(['notebook/js/codecell'], function(codecell) {\n",
       "  codecell.CodeCell.options_default.highlight_modes[\n",
       "      'magic_text/x-csrc'] = {'reg':[/^%%pybind11/]};\n",
       "  Jupyter.notebook.events.one('kernel_ready.Kernel', function(){\n",
       "      Jupyter.notebook.get_cells().map(function(cell){\n",
       "          if (cell.cell_type == 'code'){ cell.auto_highlight(); } }) ;\n",
       "  });\n",
       "});\n",
       "} catch (e) {};\n"
      ]
     },
     "metadata": {},
     "output_type": "display_data"
    },
    {
     "ename": "OSError",
     "evalue": "Root permissions required.",
     "output_type": "error",
     "traceback": [
      "\u001b[0;31m---------------------------------------------------------------------------\u001b[0m",
      "\u001b[0;31mOSError\u001b[0m                                   Traceback (most recent call last)",
      "Input \u001b[0;32mIn [2]\u001b[0m, in \u001b[0;36m<cell line: 6>\u001b[0;34m()\u001b[0m\n\u001b[1;32m      4\u001b[0m \u001b[38;5;28;01mfrom\u001b[39;00m \u001b[38;5;21;01mpynq_peripherals\u001b[39;00m \u001b[38;5;28;01mimport\u001b[39;00m PmodGroveAdapter\n\u001b[1;32m      5\u001b[0m \u001b[38;5;66;03m# downloading the overlay to the board\u001b[39;00m\n\u001b[0;32m----> 6\u001b[0m overlay \u001b[38;5;241m=\u001b[39m \u001b[43mDpuOverlay\u001b[49m\u001b[43m(\u001b[49m\u001b[38;5;124;43m\"\u001b[39;49m\u001b[38;5;124;43mdpu.bit\u001b[39;49m\u001b[38;5;124;43m\"\u001b[39;49m\u001b[43m)\u001b[49m\n",
      "File \u001b[0;32m/usr/local/share/pynq-venv/lib/python3.10/site-packages/pynq_dpu/dpu.py:98\u001b[0m, in \u001b[0;36mDpuOverlay.__init__\u001b[0;34m(self, bitfile_name, dtbo, download, ignore_version, device)\u001b[0m\n\u001b[1;32m     96\u001b[0m \u001b[38;5;28;01melse\u001b[39;00m:\n\u001b[1;32m     97\u001b[0m     \u001b[38;5;28;01mraise\u001b[39;00m \u001b[38;5;167;01mFileNotFoundError\u001b[39;00m(\u001b[38;5;124m'\u001b[39m\u001b[38;5;124mCannot find \u001b[39m\u001b[38;5;132;01m{}\u001b[39;00m\u001b[38;5;124m.\u001b[39m\u001b[38;5;124m'\u001b[39m\u001b[38;5;241m.\u001b[39mformat(bitfile_name))\n\u001b[0;32m---> 98\u001b[0m \u001b[38;5;28;43msuper\u001b[39;49m\u001b[43m(\u001b[49m\u001b[43m)\u001b[49m\u001b[38;5;241;43m.\u001b[39;49m\u001b[38;5;21;43m__init__\u001b[39;49m\u001b[43m(\u001b[49m\u001b[43mabs_bitfile_name\u001b[49m\u001b[43m,\u001b[49m\n\u001b[1;32m     99\u001b[0m \u001b[43m                 \u001b[49m\u001b[43mdtbo\u001b[49m\u001b[38;5;241;43m=\u001b[39;49m\u001b[43mdtbo\u001b[49m\u001b[43m,\u001b[49m\n\u001b[1;32m    100\u001b[0m \u001b[43m                 \u001b[49m\u001b[43mdownload\u001b[49m\u001b[38;5;241;43m=\u001b[39;49m\u001b[43mdownload\u001b[49m\u001b[43m,\u001b[49m\n\u001b[1;32m    101\u001b[0m \u001b[43m                 \u001b[49m\u001b[43mignore_version\u001b[49m\u001b[38;5;241;43m=\u001b[39;49m\u001b[43mignore_version\u001b[49m\u001b[43m,\u001b[49m\n\u001b[1;32m    102\u001b[0m \u001b[43m                 \u001b[49m\u001b[43mdevice\u001b[49m\u001b[38;5;241;43m=\u001b[39;49m\u001b[43mdevice\u001b[49m\u001b[43m)\u001b[49m\n\u001b[1;32m    103\u001b[0m \u001b[38;5;28mself\u001b[39m\u001b[38;5;241m.\u001b[39moverlay_dirname \u001b[38;5;241m=\u001b[39m os\u001b[38;5;241m.\u001b[39mpath\u001b[38;5;241m.\u001b[39mdirname(\u001b[38;5;28mself\u001b[39m\u001b[38;5;241m.\u001b[39mbitfile_name)\n\u001b[1;32m    104\u001b[0m \u001b[38;5;28mself\u001b[39m\u001b[38;5;241m.\u001b[39moverlay_basename \u001b[38;5;241m=\u001b[39m os\u001b[38;5;241m.\u001b[39mpath\u001b[38;5;241m.\u001b[39mbasename(\u001b[38;5;28mself\u001b[39m\u001b[38;5;241m.\u001b[39mbitfile_name)\n",
      "File \u001b[0;32m/usr/local/share/pynq-venv/lib/python3.10/site-packages/pynq/overlay.py:348\u001b[0m, in \u001b[0;36mOverlay.__init__\u001b[0;34m(self, bitfile_name, dtbo, download, ignore_version, device, gen_cache)\u001b[0m\n\u001b[1;32m    345\u001b[0m     \u001b[38;5;28mself\u001b[39m\u001b[38;5;241m.\u001b[39msystemgraph \u001b[38;5;241m=\u001b[39m \u001b[38;5;28;01mNone\u001b[39;00m\n\u001b[1;32m    347\u001b[0m \u001b[38;5;28;01mif\u001b[39;00m download:\n\u001b[0;32m--> 348\u001b[0m     \u001b[38;5;28;43mself\u001b[39;49m\u001b[38;5;241;43m.\u001b[39;49m\u001b[43mdownload\u001b[49m\u001b[43m(\u001b[49m\u001b[43m)\u001b[49m\n\u001b[1;32m    349\u001b[0m \u001b[38;5;28;01melse\u001b[39;00m:\n\u001b[1;32m    350\u001b[0m     \u001b[38;5;28;01mif\u001b[39;00m gen_cache:\n",
      "File \u001b[0;32m/usr/local/share/pynq-venv/lib/python3.10/site-packages/pynq_dpu/dpu.py:118\u001b[0m, in \u001b[0;36mDpuOverlay.download\u001b[0;34m(self)\u001b[0m\n\u001b[1;32m    110\u001b[0m \u001b[38;5;28;01mdef\u001b[39;00m \u001b[38;5;21mdownload\u001b[39m(\u001b[38;5;28mself\u001b[39m):\n\u001b[1;32m    111\u001b[0m \u001b[38;5;250m    \u001b[39m\u001b[38;5;124;03m\"\"\"Download the overlay.\u001b[39;00m\n\u001b[1;32m    112\u001b[0m \n\u001b[1;32m    113\u001b[0m \u001b[38;5;124;03m    This method overwrites the existing `download()` method defined in\u001b[39;00m\n\u001b[0;32m   (...)\u001b[0m\n\u001b[1;32m    116\u001b[0m \n\u001b[1;32m    117\u001b[0m \u001b[38;5;124;03m    \"\"\"\u001b[39;00m\n\u001b[0;32m--> 118\u001b[0m     \u001b[38;5;28;43msuper\u001b[39;49m\u001b[43m(\u001b[49m\u001b[43m)\u001b[49m\u001b[38;5;241;43m.\u001b[39;49m\u001b[43mdownload\u001b[49m\u001b[43m(\u001b[49m\u001b[43m)\u001b[49m\n\u001b[1;32m    119\u001b[0m     \u001b[38;5;28mself\u001b[39m\u001b[38;5;241m.\u001b[39moverlay_dirname \u001b[38;5;241m=\u001b[39m os\u001b[38;5;241m.\u001b[39mpath\u001b[38;5;241m.\u001b[39mdirname(\u001b[38;5;28mself\u001b[39m\u001b[38;5;241m.\u001b[39mbitfile_name)\n\u001b[1;32m    120\u001b[0m     \u001b[38;5;28mself\u001b[39m\u001b[38;5;241m.\u001b[39moverlay_basename \u001b[38;5;241m=\u001b[39m os\u001b[38;5;241m.\u001b[39mpath\u001b[38;5;241m.\u001b[39mbasename(\u001b[38;5;28mself\u001b[39m\u001b[38;5;241m.\u001b[39mbitfile_name)\n",
      "File \u001b[0;32m/usr/local/share/pynq-venv/lib/python3.10/site-packages/pynq/overlay.py:424\u001b[0m, in \u001b[0;36mOverlay.download\u001b[0;34m(self, dtbo)\u001b[0m\n\u001b[1;32m    422\u001b[0m div1 \u001b[38;5;241m=\u001b[39m \u001b[38;5;28mself\u001b[39m\u001b[38;5;241m.\u001b[39mclock_dict[i][\u001b[38;5;124m\"\u001b[39m\u001b[38;5;124mdivisor1\u001b[39m\u001b[38;5;124m\"\u001b[39m]\n\u001b[1;32m    423\u001b[0m \u001b[38;5;28;01mif\u001b[39;00m enable:\n\u001b[0;32m--> 424\u001b[0m     \u001b[43mClocks\u001b[49m\u001b[38;5;241;43m.\u001b[39;49m\u001b[43mset_pl_clk\u001b[49m\u001b[43m(\u001b[49m\u001b[43mi\u001b[49m\u001b[43m,\u001b[49m\u001b[43m \u001b[49m\u001b[43mdiv0\u001b[49m\u001b[43m,\u001b[49m\u001b[43m \u001b[49m\u001b[43mdiv1\u001b[49m\u001b[43m)\u001b[49m\n\u001b[1;32m    425\u001b[0m \u001b[38;5;28;01melse\u001b[39;00m:\n\u001b[1;32m    426\u001b[0m     Clocks\u001b[38;5;241m.\u001b[39mset_pl_clk(i)\n",
      "File \u001b[0;32m/usr/local/share/pynq-venv/lib/python3.10/site-packages/pynq/ps.py:303\u001b[0m, in \u001b[0;36m_ClocksMeta.set_pl_clk\u001b[0;34m(cls, clk_idx, div0, div1, clk_mhz)\u001b[0m\n\u001b[1;32m    271\u001b[0m \u001b[38;5;28;01mdef\u001b[39;00m \u001b[38;5;21mset_pl_clk\u001b[39m(\u001b[38;5;28mcls\u001b[39m, clk_idx, div0\u001b[38;5;241m=\u001b[39m\u001b[38;5;28;01mNone\u001b[39;00m, div1\u001b[38;5;241m=\u001b[39m\u001b[38;5;28;01mNone\u001b[39;00m,\n\u001b[1;32m    272\u001b[0m                clk_mhz\u001b[38;5;241m=\u001b[39mDEFAULT_PL_CLK_MHZ):\n\u001b[1;32m    273\u001b[0m \u001b[38;5;250m    \u001b[39m\u001b[38;5;124;03m\"\"\"This method sets a PL clock frequency.\u001b[39;00m\n\u001b[1;32m    274\u001b[0m \n\u001b[1;32m    275\u001b[0m \u001b[38;5;124;03m    Users have to specify the index of the PL clock to be changed.\u001b[39;00m\n\u001b[0;32m   (...)\u001b[0m\n\u001b[1;32m    301\u001b[0m \n\u001b[1;32m    302\u001b[0m \u001b[38;5;124;03m    \"\"\"\u001b[39;00m\n\u001b[0;32m--> 303\u001b[0m     \u001b[38;5;28;43mcls\u001b[39;49m\u001b[38;5;241;43m.\u001b[39;49m\u001b[43m_instance\u001b[49m\u001b[38;5;241m.\u001b[39mset_pl_clk(clk_idx, div0, div1, clk_mhz)\n",
      "File \u001b[0;32m/usr/local/share/pynq-venv/lib/python3.10/site-packages/pynq/ps.py:311\u001b[0m, in \u001b[0;36m_ClocksMeta._instance\u001b[0;34m(cls)\u001b[0m\n\u001b[1;32m    309\u001b[0m     \u001b[38;5;28mcls\u001b[39m\u001b[38;5;241m.\u001b[39m_real_instance \u001b[38;5;241m=\u001b[39m _ClocksZynq()\n\u001b[1;32m    310\u001b[0m \u001b[38;5;28;01melif\u001b[39;00m CPU_ARCH \u001b[38;5;241m==\u001b[39m ZU_ARCH:\n\u001b[0;32m--> 311\u001b[0m     \u001b[38;5;28mcls\u001b[39m\u001b[38;5;241m.\u001b[39m_real_instance \u001b[38;5;241m=\u001b[39m \u001b[43m_ClocksUltrascale\u001b[49m\u001b[43m(\u001b[49m\u001b[43m)\u001b[49m\n\u001b[1;32m    312\u001b[0m \u001b[38;5;28;01melse\u001b[39;00m:\n\u001b[1;32m    313\u001b[0m     \u001b[38;5;28;01mraise\u001b[39;00m \u001b[38;5;167;01mRuntimeError\u001b[39;00m(\u001b[38;5;124m'\u001b[39m\u001b[38;5;124mArchitecture not supported for Clocks\u001b[39m\u001b[38;5;124m'\u001b[39m)\n",
      "File \u001b[0;32m/usr/local/share/pynq-venv/lib/python3.10/site-packages/pynq/ps.py:463\u001b[0m, in \u001b[0;36m_ClocksUltrascale.__init__\u001b[0;34m(self, src_clk_mhz)\u001b[0m\n\u001b[1;32m    460\u001b[0m \u001b[38;5;28mself\u001b[39m\u001b[38;5;241m.\u001b[39m_ref_clk_mhz \u001b[38;5;241m=\u001b[39m src_clk_mhz\n\u001b[1;32m    462\u001b[0m \u001b[38;5;28;01mfrom\u001b[39;00m \u001b[38;5;21;01m.\u001b[39;00m\u001b[38;5;21;01mmmio\u001b[39;00m \u001b[38;5;28;01mimport\u001b[39;00m MMIO\n\u001b[0;32m--> 463\u001b[0m \u001b[38;5;28mself\u001b[39m\u001b[38;5;241m.\u001b[39m_crf_mmio \u001b[38;5;241m=\u001b[39m \u001b[43mMMIO\u001b[49m\u001b[43m(\u001b[49m\u001b[38;5;28;43mself\u001b[39;49m\u001b[38;5;241;43m.\u001b[39;49m\u001b[43mCRF_APB_ADDRESS\u001b[49m\u001b[43m,\u001b[49m\u001b[43m \u001b[49m\u001b[38;5;241;43m0x100\u001b[39;49m\u001b[43m)\u001b[49m\n\u001b[1;32m    464\u001b[0m \u001b[38;5;28mself\u001b[39m\u001b[38;5;241m.\u001b[39m_crl_mmio \u001b[38;5;241m=\u001b[39m MMIO(\u001b[38;5;28mself\u001b[39m\u001b[38;5;241m.\u001b[39mCRL_APB_ADDRESS, \u001b[38;5;241m0x100\u001b[39m)\n\u001b[1;32m    466\u001b[0m \u001b[38;5;28;01mfrom\u001b[39;00m \u001b[38;5;21;01m.\u001b[39;00m\u001b[38;5;21;01mregisters\u001b[39;00m \u001b[38;5;28;01mimport\u001b[39;00m RegisterMap\n",
      "File \u001b[0;32m/usr/local/share/pynq-venv/lib/python3.10/site-packages/pynq/mmio.py:73\u001b[0m, in \u001b[0;36mMMIO.__init__\u001b[0;34m(self, base_addr, length, device, **kwargs)\u001b[0m\n\u001b[1;32m     71\u001b[0m     \u001b[38;5;28mself\u001b[39m\u001b[38;5;241m.\u001b[39mread \u001b[38;5;241m=\u001b[39m \u001b[38;5;28mself\u001b[39m\u001b[38;5;241m.\u001b[39mread\n\u001b[1;32m     72\u001b[0m     \u001b[38;5;28mself\u001b[39m\u001b[38;5;241m.\u001b[39mwrite \u001b[38;5;241m=\u001b[39m \u001b[38;5;28mself\u001b[39m\u001b[38;5;241m.\u001b[39mwrite_mm\n\u001b[0;32m---> 73\u001b[0m     \u001b[38;5;28mself\u001b[39m\u001b[38;5;241m.\u001b[39marray \u001b[38;5;241m=\u001b[39m \u001b[38;5;28;43mself\u001b[39;49m\u001b[38;5;241;43m.\u001b[39;49m\u001b[43mdevice\u001b[49m\u001b[38;5;241;43m.\u001b[39;49m\u001b[43mmmap\u001b[49m\u001b[43m(\u001b[49m\u001b[43mbase_addr\u001b[49m\u001b[43m,\u001b[49m\u001b[43m \u001b[49m\u001b[43mlength\u001b[49m\u001b[43m)\u001b[49m\n\u001b[1;32m     74\u001b[0m \u001b[38;5;28;01melif\u001b[39;00m \u001b[38;5;28mself\u001b[39m\u001b[38;5;241m.\u001b[39mdevice\u001b[38;5;241m.\u001b[39mhas_capability(\u001b[38;5;124m\"\u001b[39m\u001b[38;5;124mREGISTER_RW\u001b[39m\u001b[38;5;124m\"\u001b[39m):\n\u001b[1;32m     75\u001b[0m     \u001b[38;5;28mself\u001b[39m\u001b[38;5;241m.\u001b[39mread \u001b[38;5;241m=\u001b[39m \u001b[38;5;28mself\u001b[39m\u001b[38;5;241m.\u001b[39mread\n",
      "File \u001b[0;32m/usr/local/share/pynq-venv/lib/python3.10/site-packages/pynq/pl_server/embedded_device.py:580\u001b[0m, in \u001b[0;36mEmbeddedDevice.mmap\u001b[0;34m(self, base_addr, length)\u001b[0m\n\u001b[1;32m    578\u001b[0m euid \u001b[38;5;241m=\u001b[39m os\u001b[38;5;241m.\u001b[39mgeteuid()\n\u001b[1;32m    579\u001b[0m \u001b[38;5;28;01mif\u001b[39;00m euid \u001b[38;5;241m!=\u001b[39m \u001b[38;5;241m0\u001b[39m:\n\u001b[0;32m--> 580\u001b[0m     \u001b[38;5;28;01mraise\u001b[39;00m \u001b[38;5;167;01mEnvironmentError\u001b[39;00m(\u001b[38;5;124m\"\u001b[39m\u001b[38;5;124mRoot permissions required.\u001b[39m\u001b[38;5;124m\"\u001b[39m)\n\u001b[1;32m    582\u001b[0m \u001b[38;5;66;03m# Align the base address with the pages\u001b[39;00m\n\u001b[1;32m    583\u001b[0m virt_base \u001b[38;5;241m=\u001b[39m base_addr \u001b[38;5;241m&\u001b[39m \u001b[38;5;241m~\u001b[39m(mmap\u001b[38;5;241m.\u001b[39mPAGESIZE \u001b[38;5;241m-\u001b[39m \u001b[38;5;241m1\u001b[39m)\n",
      "\u001b[0;31mOSError\u001b[0m: Root permissions required."
     ]
    }
   ],
   "source": [
    "# this library is for downloading the overlay to the board\n",
    "from pynq_dpu import DpuOverlay\n",
    "# this line will be used later when we want to use the RGB LED Stick\n",
    "from pynq_peripherals import PmodGroveAdapter\n",
    "# downloading the overlay to the board\n",
    "overlay = DpuOverlay(\"dpu.bit\")"
   ]
  },
  {
   "cell_type": "code",
   "execution_count": null,
   "id": "5a946d2a",
   "metadata": {},
   "outputs": [],
   "source": [
    "overlay.load_model(\"ocr_pt.xmodel\")"
   ]
  },
  {
   "cell_type": "code",
   "execution_count": null,
   "id": "11a076ac",
   "metadata": {},
   "outputs": [],
   "source": [
    "# creates a runner instance that has a number of member functions to control \n",
    "# the execution and get the input and output tensors\n",
    "dpu = overlay.runner\n",
    "\n",
    "# get the input and output tensors\n",
    "inputTensors = dpu.get_input_tensors()\n",
    "outputTensors = dpu.get_output_tensors()\n",
    "\n",
    "# define the required input and output shapes of the data being put into and received from the model\n",
    "shapeIn = tuple(inputTensors[0].dims)\n",
    "shapeOut = tuple(outputTensors[0].dims)\n",
    "outputSize = int(outputTensors[0].get_data_size() / shapeIn[0])\n",
    "\n",
    "# create a new array of given shape and type, without initializing entries\n",
    "softmax = np.empty(outputSize)"
   ]
  },
  {
   "cell_type": "code",
   "execution_count": null,
   "id": "a3c89f72",
   "metadata": {},
   "outputs": [],
   "source": [
    "print(\"Shape in: \" + str(shapeIn))\n",
    "print(\"Shape out: \" + str(shapeOut))\n",
    "print(\"Output Size: \" + str(outputSize))"
   ]
  },
  {
   "cell_type": "code",
   "execution_count": 4,
   "id": "d13072ff",
   "metadata": {},
   "outputs": [
    {
     "ename": "NameError",
     "evalue": "name 'overlay' is not defined",
     "output_type": "error",
     "traceback": [
      "\u001b[0;31m---------------------------------------------------------------------------\u001b[0m",
      "\u001b[0;31mNameError\u001b[0m                                 Traceback (most recent call last)",
      "Input \u001b[0;32mIn [4]\u001b[0m, in \u001b[0;36m<cell line: 1>\u001b[0;34m()\u001b[0m\n\u001b[0;32m----> 1\u001b[0m \u001b[43moverlay\u001b[49m\u001b[38;5;241m.\u001b[39mrelease()\n",
      "\u001b[0;31mNameError\u001b[0m: name 'overlay' is not defined"
     ]
    }
   ],
   "source": []
  },
  {
   "cell_type": "code",
   "execution_count": null,
   "id": "164a156b",
   "metadata": {},
   "outputs": [],
   "source": []
  }
 ],
 "metadata": {
  "kernelspec": {
   "display_name": "Python 3 (ipykernel)",
   "language": "python",
   "name": "python3"
  },
  "language_info": {
   "codemirror_mode": {
    "name": "ipython",
    "version": 3
   },
   "file_extension": ".py",
   "mimetype": "text/x-python",
   "name": "python",
   "nbconvert_exporter": "python",
   "pygments_lexer": "ipython3",
   "version": "3.10.12"
  }
 },
 "nbformat": 4,
 "nbformat_minor": 5
}
